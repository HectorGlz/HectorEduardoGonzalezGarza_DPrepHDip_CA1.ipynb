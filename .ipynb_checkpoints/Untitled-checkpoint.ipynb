{
 "cells": [
  {
   "cell_type": "markdown",
   "id": "2a55a73d",
   "metadata": {},
   "source": [
    "#### Import Libraries ####"
   ]
  },
  {
   "cell_type": "code",
   "execution_count": 1,
   "id": "072acbcc",
   "metadata": {},
   "outputs": [],
   "source": [
    "import pandas as pd\n",
    "import numpy as np\n",
    "import seaborn as sns\n",
    "import matplotlib.pyplot as plt\n",
    "from sklearn.preprocessing import StandardScaler\n",
    "from sklearn.decomposition import PCA\n",
    "import warnings\n",
    "warnings.filterwarnings(\"ignore\")\n"
   ]
  },
  {
   "cell_type": "markdown",
   "id": "3a62e99f",
   "metadata": {},
   "source": [
    "#### Import Dataset ####"
   ]
  },
  {
   "cell_type": "code",
   "execution_count": 2,
   "id": "7b537818",
   "metadata": {},
   "outputs": [],
   "source": [
    "df = pd.read_csv('aps_failure_set.csv')"
   ]
  },
  {
   "cell_type": "markdown",
   "id": "3a30ea27",
   "metadata": {},
   "source": [
    "#### Clear all the null values ####"
   ]
  },
  {
   "cell_type": "code",
   "execution_count": 3,
   "id": "f391c08c",
   "metadata": {},
   "outputs": [],
   "source": [
    "df= pd.read_csv(\"aps_failure_set.csv\", na_values=\"na\")"
   ]
  },
  {
   "cell_type": "code",
   "execution_count": null,
   "id": "6745f299",
   "metadata": {},
   "outputs": [],
   "source": []
  },
  {
   "cell_type": "code",
   "execution_count": null,
   "id": "864f8863",
   "metadata": {},
   "outputs": [],
   "source": []
  }
 ],
 "metadata": {
  "kernelspec": {
   "display_name": "Python 3 (ipykernel)",
   "language": "python",
   "name": "python3"
  },
  "language_info": {
   "codemirror_mode": {
    "name": "ipython",
    "version": 3
   },
   "file_extension": ".py",
   "mimetype": "text/x-python",
   "name": "python",
   "nbconvert_exporter": "python",
   "pygments_lexer": "ipython3",
   "version": "3.11.4"
  }
 },
 "nbformat": 4,
 "nbformat_minor": 5
}
